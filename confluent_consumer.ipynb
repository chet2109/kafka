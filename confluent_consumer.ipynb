{
 "cells": [
  {
   "cell_type": "code",
   "execution_count": 20,
   "metadata": {
    "collapsed": true
   },
   "outputs": [],
   "source": [
    "from confluent_kafka import Consumer, KafkaError\n",
    "import json\n",
    "\n",
    "c = Consumer({\n",
    "    'bootstrap.servers': '127.0.0.1:9092',\n",
    "    'group.id': 'mygroup',\n",
    "    'auto.offset.reset': 'earliest'\n",
    "})\n",
    "\n",
    "\n"
   ]
  },
  {
   "cell_type": "code",
   "execution_count": 47,
   "metadata": {
    "collapsed": false
   },
   "outputs": [],
   "source": [
    "class consume:\n",
    "    \n",
    "    \"\"\"\" Consumer class which takes a consumer object and topic it needs to subscribe to\"\"\"\n",
    "    #global tweet = {}\n",
    "    def getc(self,Topic):\n",
    "        \n",
    "        self.c = Consumer({\n",
    "    'bootstrap.servers': '127.0.0.1:9092',\n",
    "    'group.id': 'mygroup',\n",
    "    #'auto.offset.reset': 'earliest'\n",
    "                         })\n",
    "        self.Topic = Topic\n",
    "        c.subscribe([Topic])\n",
    "        while True:\n",
    "            msg= c.poll(1.0)\n",
    "            if msg is None:\n",
    "                continue\n",
    "            if msg.error():\n",
    "                if msg.error().code() == KafkaError._PARTITION_EOF:\n",
    "                    continue\n",
    "                else:\n",
    "                    print(msg.error())\n",
    "                    break        \n",
    "            #print('Received message: {}'.format((msg.value().decode('utf-8'))))\n",
    "            all_data = json.loads(msg.value().decode('utf-8'))\n",
    "            tweet[\"name\"] = all_data[\"name\"]\n",
    "            return(all_data)\n",
    "    #username = all_data[\"user\"][\"screen_name\"]\n",
    "            #print(tweet)\n"
   ]
  },
  {
   "cell_type": "code",
   "execution_count": 48,
   "metadata": {
    "collapsed": false
   },
   "outputs": [],
   "source": [
    "x=consume()\n"
   ]
  },
  {
   "cell_type": "code",
   "execution_count": 50,
   "metadata": {
    "collapsed": false
   },
   "outputs": [
    {
     "data": {
      "text/plain": [
       "{'name': 'cake2'}"
      ]
     },
     "execution_count": 50,
     "metadata": {},
     "output_type": "execute_result"
    }
   ],
   "source": [
    "x.getc(\"TutorialTopic\")"
   ]
  },
  {
   "cell_type": "code",
   "execution_count": null,
   "metadata": {
    "collapsed": true
   },
   "outputs": [],
   "source": []
  }
 ],
 "metadata": {
  "kernelspec": {
   "display_name": "Python 3",
   "language": "python",
   "name": "python3"
  },
  "language_info": {
   "codemirror_mode": {
    "name": "ipython",
    "version": 3
   },
   "file_extension": ".py",
   "mimetype": "text/x-python",
   "name": "python",
   "nbconvert_exporter": "python",
   "pygments_lexer": "ipython3",
   "version": "3.6.0"
  }
 },
 "nbformat": 4,
 "nbformat_minor": 2
}

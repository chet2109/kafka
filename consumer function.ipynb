{
 "cells": [
  {
   "cell_type": "code",
   "execution_count": null,
   "metadata": {
    "collapsed": false
   },
   "outputs": [],
   "source": [
    "from confluent_kafka import Consumer, KafkaError\n",
    "import json\n",
    "\n",
    "c = Consumer({\n",
    "    'bootstrap.servers': '127.0.0.1:9092',\n",
    "    'group.id': 'mygroup'\n",
    "    #'auto.offset.reset': 'earliest'\n",
    "})\n",
    "\n",
    "c.subscribe(['TutorialTopic'])\n",
    "\n",
    "while True:\n",
    "    msg = c.poll(1.0)\n",
    "\n",
    "    if msg is None:\n",
    "        continue\n",
    "    if msg.error():\n",
    "        if msg.error().code() == KafkaError._PARTITION_EOF:\n",
    "            continue\n",
    "        else:\n",
    "            print(msg.error())\n",
    "            break\n",
    "    all_data = json.loads(msg.value().decode('utf-8'))\n",
    "    tweet = all_data[\"name\"]\n",
    "        \n",
    "    #username = all_data[\"user\"][\"screen_name\"]\n",
    "    print(tweet)\n",
    "    #print('Received message: {}'.format((msg.value().decode('utf-8'))))\n",
    "\n",
    "c.close()"
   ]
  },
  {
   "cell_type": "code",
   "execution_count": null,
   "metadata": {
    "collapsed": true
   },
   "outputs": [],
   "source": [
    "def consume1(Topic):\n",
    "    c = Consumer({\n",
    "    'bootstrap.servers': '127.0.0.1:9092',\n",
    "    'group.id': 'mygroup'\n",
    "    #'auto.offset.reset': 'earliest'\n",
    "    })\n",
    "\n",
    "    c.subscribe([Topic])\n",
    "    while True:\n",
    "        msg = c.poll(1.0)\n",
    "        if msg is None:\n",
    "            continue\n",
    "        if msg.error():\n",
    "            if msg.error().code() == KafkaError._PARTITION_EOF:\n",
    "                continue\n",
    "            else:\n",
    "                print(msg.error())\n",
    "                break\n",
    "        all_data = json.loads(msg.value().decode('utf-8'))\n",
    "        tweet = all_data[\"name\"]\n",
    "        return(tweet)\n"
   ]
  },
  {
   "cell_type": "code",
   "execution_count": null,
   "metadata": {
    "collapsed": false
   },
   "outputs": [],
   "source": [
    "consume1(\"Tutorial\")"
   ]
  },
  {
   "cell_type": "code",
   "execution_count": null,
   "metadata": {
    "collapsed": false
   },
   "outputs": [],
   "source": [
    "print(tweet)"
   ]
  },
  {
   "cell_type": "code",
   "execution_count": null,
   "metadata": {
    "collapsed": true
   },
   "outputs": [],
   "source": []
  }
 ],
 "metadata": {
  "kernelspec": {
   "display_name": "Python 3",
   "language": "python",
   "name": "python3"
  },
  "language_info": {
   "codemirror_mode": {
    "name": "ipython",
    "version": 3
   },
   "file_extension": ".py",
   "mimetype": "text/x-python",
   "name": "python",
   "nbconvert_exporter": "python",
   "pygments_lexer": "ipython3",
   "version": "3.6.0"
  }
 },
 "nbformat": 4,
 "nbformat_minor": 2
}
